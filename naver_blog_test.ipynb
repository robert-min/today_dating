{
 "cells": [
  {
   "cell_type": "code",
   "execution_count": 2,
   "metadata": {
    "collapsed": true
   },
   "outputs": [
    {
     "data": {
      "text/plain": "                                                   search_word  \\\n0    %EC%99%95%EC%8B%AD%EB%A6%AC%20%EB%8D%B0%EC%9D%B4%ED%8A%B8   \n1    %EC%99%95%EC%8B%AD%EB%A6%AC%20%EB%8D%B0%EC%9D%B4%ED%8A%B8   \n2    %EC%99%95%EC%8B%AD%EB%A6%AC%20%EB%8D%B0%EC%9D%B4%ED%8A%B8   \n3    %EC%99%95%EC%8B%AD%EB%A6%AC%20%EB%8D%B0%EC%9D%B4%ED%8A%B8   \n4    %EC%99%95%EC%8B%AD%EB%A6%AC%20%EB%8D%B0%EC%9D%B4%ED%8A%B8   \n..                                                         ...   \n995  %EC%99%95%EC%8B%AD%EB%A6%AC%20%EB%8D%B0%EC%9D%B4%ED%8A%B8   \n996  %EC%99%95%EC%8B%AD%EB%A6%AC%20%EB%8D%B0%EC%9D%B4%ED%8A%B8   \n997  %EC%99%95%EC%8B%AD%EB%A6%AC%20%EB%8D%B0%EC%9D%B4%ED%8A%B8   \n998  %EC%99%95%EC%8B%AD%EB%A6%AC%20%EB%8D%B0%EC%9D%B4%ED%8A%B8   \n999  %EC%99%95%EC%8B%AD%EB%A6%AC%20%EB%8D%B0%EC%9D%B4%ED%8A%B8   \n\n                                       title  \\\n0             왕십리 데이트 맛집 울산 바이브 한식요리 주점 주052   \n1                     왕십리 파스타 카이테이블에서 맛집 데이트   \n2          왕십리 데이트 서울 방탈출카페 더코드 피의일요일 테마...    \n3                            왕십리 데이트 맛집 주052   \n4          [ 왕십리 데이트 ] 서울 방탈출카페 더코드 THE CODE   \n..                                       ...   \n995              왕십리 데이트코스 규카츠 먹으러 : 왕십리 이자와   \n996     [데이트코스추천] 행복한 왕십리 데이트 ^ㅁ^ [포르시따]...    \n997  고져스 키친 - 왕십리, 한양대 데이트 파스타 맛집 (가격,위치,메뉴)   \n998                   궁동 더블데이트 왕십리야채곱창으로 시작!   \n999                  왕십리역 칵테일바 2차로 가성비 좋은 문바   \n\n                                                                    link  \\\n0          https://blog.naver.com/kies84?Redirect=Log&logNo=222640940547   \n1    https://blog.naver.com/gemstone4589?Redirect=Log&logNo=222598272792   \n2       https://blog.naver.com/hanee5538?Redirect=Log&logNo=221930346332   \n3      https://blog.naver.com/ans_zining?Redirect=Log&logNo=222600985236   \n4         https://blog.naver.com/anzeeee?Redirect=Log&logNo=221915777999   \n..                                                                   ...   \n995      https://blog.naver.com/ar890824?Redirect=Log&logNo=221262351280   \n996    https://blog.naver.com/smrrla1004?Redirect=Log&logNo=120208226286   \n997       https://blog.naver.com/cyj0619?Redirect=Log&logNo=221098218210   \n998      https://blog.naver.com/wsdd1234?Redirect=Log&logNo=222003809849   \n999        https://blog.naver.com/ny7188?Redirect=Log&logNo=222566043502   \n\n                                                                                                                  description  \n0              얼마 전 친구들이 왕십리쪽에 온다고 해서 어디를 갈까 고민을 하다마 왕십리 데이트 맛집으로 유명한... 오픈주방으로 되어 있기 때문에 왕십리 데이트 맛집에서 데이트하는 커플분들에게 딱인 자리...   \n1            좋은 왕십리 데이트 맛집 카이테이블에서 파스타와 폭립스테이크 먹으며 즐거운 시간을 보냈다.아참, 맛있는 감자튀김도! 이마트에 장보러 온뒤 외식하러 오기에도 좋고 데이트하러 오기에도 괜찮은 왕십리...   \n2           한 2년전쯤 둘이 완전 자주 하러 돌아다닐때가 있었는데 그때처럼 ㅋㅋㅋㅋㅋㅋㅋㅋㅋ 요즘 활활 불타오르는 패기로 방탕출 하러 다니는데, 이번에는 왕십리가서 왕십리 데이트를 하고 왔지요! 방탈출 하고...   \n3    왕십리 데이트 맛집 주052 명동 한바퀴 돌고 저녁먹으러 간곳은 왕십리 데이트 맛집 주052 상호명이... #왕십리역데이트 #왕십리역맛집 #왕십리역술집 #주052 #왕십리역한식비스트로 수란과 육회를 잘 섞어서...   \n4            포스팅에서 만나요, 안넝 :0 #더코드 #더코드왕십리 #왕십리더코드 #방탈출 #방탈출카페 #왕십리방탈출카페 #왕십리데이트 #왕십리데이트코스 #왕십리가볼만한곳 #서울방탈출카페 #한양대방탈출 #한양대데이트  \n..                                                                                                                        ...  \n995            얼마전 성신여대 이자와본점에서 규카츠를 먹고 반해서 이번엔 새로운친구를 데리고 또 다녀온 왕십리 이자와!ㅋㅋㅋ 왕십리 엔터식스 4층 푸드코트 내에 있는 곳이었습니다 푸드에비뉴로 가면 사람들이...   \n996          안녕하세요 월요일이에욧 어깨에 힘이 빠진 채로 출근하실 생각을 하니까 제가 다 마음이 아프네요 이번엔 지난주에 제 여자친구와 왕십리에서 데이트한 것을 소개해드릴려구요 먼저 점심을 무엇을 먹을 까...   \n997       왕십리 데이트 / 한양대 데이트 한양대 맛집 / 왕십리 맛집 파스타 맛집 고져스 키친 안뇽하세요 둉둉이에용 친구가 한양대 다니는데 친구 생일마다 왕십리 가는 게 연례행사가 돼서 찾아가게 됐어용 한양대...   \n998        궁동 더블데이트 왕십리야채곱창으로 시작! 볼링모임 더블데이트! 오늘의 맛집 항상 손님이 바글바글 궁동 야채곱창하면 바로 왕십리야채곱창! 오후3시부터 오후 11시까지! 포장은 10시전에 하셔야합니다!...   \n999            모른다고 하셔서 인터넷에 셀프 검색 필요함 ㅋㅋㅋ 도움이 되셨다면 공감과 댓글 부탁드려요 읽어주셔서 감사합니다 #왕십리역칵테일 #왕십리칵테일 #왕십리문바 #왕십리역문바 #왕십리데이트 #왕십리역데이트  \n\n[1000 rows x 4 columns]",
      "text/html": "<div>\n<style scoped>\n    .dataframe tbody tr th:only-of-type {\n        vertical-align: middle;\n    }\n\n    .dataframe tbody tr th {\n        vertical-align: top;\n    }\n\n    .dataframe thead th {\n        text-align: right;\n    }\n</style>\n<table border=\"1\" class=\"dataframe\">\n  <thead>\n    <tr style=\"text-align: right;\">\n      <th></th>\n      <th>search_word</th>\n      <th>title</th>\n      <th>link</th>\n      <th>description</th>\n    </tr>\n  </thead>\n  <tbody>\n    <tr>\n      <th>0</th>\n      <td>%EC%99%95%EC%8B%AD%EB%A6%AC%20%EB%8D%B0%EC%9D%B4%ED%8A%B8</td>\n      <td>왕십리 데이트 맛집 울산 바이브 한식요리 주점 주052</td>\n      <td>https://blog.naver.com/kies84?Redirect=Log&amp;logNo=222640940547</td>\n      <td>얼마 전 친구들이 왕십리쪽에 온다고 해서 어디를 갈까 고민을 하다마 왕십리 데이트 맛집으로 유명한... 오픈주방으로 되어 있기 때문에 왕십리 데이트 맛집에서 데이트하는 커플분들에게 딱인 자리...</td>\n    </tr>\n    <tr>\n      <th>1</th>\n      <td>%EC%99%95%EC%8B%AD%EB%A6%AC%20%EB%8D%B0%EC%9D%B4%ED%8A%B8</td>\n      <td>왕십리 파스타 카이테이블에서 맛집 데이트</td>\n      <td>https://blog.naver.com/gemstone4589?Redirect=Log&amp;logNo=222598272792</td>\n      <td>좋은 왕십리 데이트 맛집 카이테이블에서 파스타와 폭립스테이크 먹으며 즐거운 시간을 보냈다.아참, 맛있는 감자튀김도! 이마트에 장보러 온뒤 외식하러 오기에도 좋고 데이트하러 오기에도 괜찮은 왕십리...</td>\n    </tr>\n    <tr>\n      <th>2</th>\n      <td>%EC%99%95%EC%8B%AD%EB%A6%AC%20%EB%8D%B0%EC%9D%B4%ED%8A%B8</td>\n      <td>왕십리 데이트 서울 방탈출카페 더코드 피의일요일 테마...</td>\n      <td>https://blog.naver.com/hanee5538?Redirect=Log&amp;logNo=221930346332</td>\n      <td>한 2년전쯤 둘이 완전 자주 하러 돌아다닐때가 있었는데 그때처럼 ㅋㅋㅋㅋㅋㅋㅋㅋㅋ 요즘 활활 불타오르는 패기로 방탕출 하러 다니는데, 이번에는 왕십리가서 왕십리 데이트를 하고 왔지요! 방탈출 하고...</td>\n    </tr>\n    <tr>\n      <th>3</th>\n      <td>%EC%99%95%EC%8B%AD%EB%A6%AC%20%EB%8D%B0%EC%9D%B4%ED%8A%B8</td>\n      <td>왕십리 데이트 맛집 주052</td>\n      <td>https://blog.naver.com/ans_zining?Redirect=Log&amp;logNo=222600985236</td>\n      <td>왕십리 데이트 맛집 주052 명동 한바퀴 돌고 저녁먹으러 간곳은 왕십리 데이트 맛집 주052 상호명이... #왕십리역데이트 #왕십리역맛집 #왕십리역술집 #주052 #왕십리역한식비스트로 수란과 육회를 잘 섞어서...</td>\n    </tr>\n    <tr>\n      <th>4</th>\n      <td>%EC%99%95%EC%8B%AD%EB%A6%AC%20%EB%8D%B0%EC%9D%B4%ED%8A%B8</td>\n      <td>[ 왕십리 데이트 ] 서울 방탈출카페 더코드 THE CODE</td>\n      <td>https://blog.naver.com/anzeeee?Redirect=Log&amp;logNo=221915777999</td>\n      <td>포스팅에서 만나요, 안넝 :0 #더코드 #더코드왕십리 #왕십리더코드 #방탈출 #방탈출카페 #왕십리방탈출카페 #왕십리데이트 #왕십리데이트코스 #왕십리가볼만한곳 #서울방탈출카페 #한양대방탈출 #한양대데이트</td>\n    </tr>\n    <tr>\n      <th>...</th>\n      <td>...</td>\n      <td>...</td>\n      <td>...</td>\n      <td>...</td>\n    </tr>\n    <tr>\n      <th>995</th>\n      <td>%EC%99%95%EC%8B%AD%EB%A6%AC%20%EB%8D%B0%EC%9D%B4%ED%8A%B8</td>\n      <td>왕십리 데이트코스 규카츠 먹으러 : 왕십리 이자와</td>\n      <td>https://blog.naver.com/ar890824?Redirect=Log&amp;logNo=221262351280</td>\n      <td>얼마전 성신여대 이자와본점에서 규카츠를 먹고 반해서 이번엔 새로운친구를 데리고 또 다녀온 왕십리 이자와!ㅋㅋㅋ 왕십리 엔터식스 4층 푸드코트 내에 있는 곳이었습니다 푸드에비뉴로 가면 사람들이...</td>\n    </tr>\n    <tr>\n      <th>996</th>\n      <td>%EC%99%95%EC%8B%AD%EB%A6%AC%20%EB%8D%B0%EC%9D%B4%ED%8A%B8</td>\n      <td>[데이트코스추천] 행복한 왕십리 데이트 ^ㅁ^ [포르시따]...</td>\n      <td>https://blog.naver.com/smrrla1004?Redirect=Log&amp;logNo=120208226286</td>\n      <td>안녕하세요 월요일이에욧 어깨에 힘이 빠진 채로 출근하실 생각을 하니까 제가 다 마음이 아프네요 이번엔 지난주에 제 여자친구와 왕십리에서 데이트한 것을 소개해드릴려구요 먼저 점심을 무엇을 먹을 까...</td>\n    </tr>\n    <tr>\n      <th>997</th>\n      <td>%EC%99%95%EC%8B%AD%EB%A6%AC%20%EB%8D%B0%EC%9D%B4%ED%8A%B8</td>\n      <td>고져스 키친 - 왕십리, 한양대 데이트 파스타 맛집 (가격,위치,메뉴)</td>\n      <td>https://blog.naver.com/cyj0619?Redirect=Log&amp;logNo=221098218210</td>\n      <td>왕십리 데이트 / 한양대 데이트 한양대 맛집 / 왕십리 맛집 파스타 맛집 고져스 키친 안뇽하세요 둉둉이에용 친구가 한양대 다니는데 친구 생일마다 왕십리 가는 게 연례행사가 돼서 찾아가게 됐어용 한양대...</td>\n    </tr>\n    <tr>\n      <th>998</th>\n      <td>%EC%99%95%EC%8B%AD%EB%A6%AC%20%EB%8D%B0%EC%9D%B4%ED%8A%B8</td>\n      <td>궁동 더블데이트 왕십리야채곱창으로 시작!</td>\n      <td>https://blog.naver.com/wsdd1234?Redirect=Log&amp;logNo=222003809849</td>\n      <td>궁동 더블데이트 왕십리야채곱창으로 시작! 볼링모임 더블데이트! 오늘의 맛집 항상 손님이 바글바글 궁동 야채곱창하면 바로 왕십리야채곱창! 오후3시부터 오후 11시까지! 포장은 10시전에 하셔야합니다!...</td>\n    </tr>\n    <tr>\n      <th>999</th>\n      <td>%EC%99%95%EC%8B%AD%EB%A6%AC%20%EB%8D%B0%EC%9D%B4%ED%8A%B8</td>\n      <td>왕십리역 칵테일바 2차로 가성비 좋은 문바</td>\n      <td>https://blog.naver.com/ny7188?Redirect=Log&amp;logNo=222566043502</td>\n      <td>모른다고 하셔서 인터넷에 셀프 검색 필요함 ㅋㅋㅋ 도움이 되셨다면 공감과 댓글 부탁드려요 읽어주셔서 감사합니다 #왕십리역칵테일 #왕십리칵테일 #왕십리문바 #왕십리역문바 #왕십리데이트 #왕십리역데이트</td>\n    </tr>\n  </tbody>\n</table>\n<p>1000 rows × 4 columns</p>\n</div>"
     },
     "execution_count": 2,
     "metadata": {},
     "output_type": "execute_result"
    }
   ],
   "source": [
    "import os\n",
    "import sys\n",
    "import urllib.request\n",
    "import pandas as pd\n",
    "import json\n",
    "import re\n",
    "\n",
    "test_df = pd.DataFrame(columns=(\"search_word\", \"title\", \"link\", \"description\"))\n",
    "\n",
    "client_id = \"\"\n",
    "client_secret = \"\"\n",
    "\n",
    "search_word = urllib.parse.quote(input(\"검색어\"))\n",
    "display = 100\n",
    "start = 1\n",
    "end = 1000\n",
    "df_idx = 0\n",
    "\n",
    "for idx in range(start, end, display):\n",
    "\n",
    "    url = \"https://openapi.naver.com/v1/search/blog?query=\" + search_word \\\n",
    "            + \"&display=\" + str(display) \\\n",
    "            + \"&start=\" + str(idx)\n",
    "\n",
    "    request = urllib.request.Request(url)\n",
    "    request.add_header(\"X-Naver-Client-Id\", client_id)\n",
    "    request.add_header(\"X-Naver-Client-Secret\", client_secret)\n",
    "\n",
    "    response = urllib.request.urlopen(request)\n",
    "    rescode = response.getcode()\n",
    "\n",
    "    if(rescode==200):\n",
    "        response_body = response.read()\n",
    "        response_dict = json.loads(response_body.decode(\"utf-8\"))\n",
    "        items = response_dict[\"items\"]\n",
    "        for items_idx in range(0, len(items)):\n",
    "            remove_tag = re.compile(\"<.*?>\")\n",
    "            title = re.sub(remove_tag, \"\", items[items_idx][\"title\"])\n",
    "            link = items[items_idx][\"link\"]\n",
    "            description = re.sub(remove_tag, \"\", items[items_idx][\"description\"])\n",
    "            test_df.loc[df_idx] = [search_word, title, link, description]\n",
    "            df_idx += 1\n",
    "    else:\n",
    "        print(\"Error Code\" + rescode)\n",
    "\n",
    "test_df"
   ]
  },
  {
   "cell_type": "code",
   "execution_count": 1,
   "outputs": [],
   "source": [],
   "metadata": {
    "collapsed": false,
    "pycharm": {
     "name": "#%%\n"
    }
   }
  },
  {
   "cell_type": "code",
   "execution_count": null,
   "outputs": [],
   "source": [],
   "metadata": {
    "collapsed": false,
    "pycharm": {
     "name": "#%%\n"
    }
   }
  }
 ],
 "metadata": {
  "kernelspec": {
   "display_name": "Python 3",
   "language": "python",
   "name": "python3"
  },
  "language_info": {
   "codemirror_mode": {
    "name": "ipython",
    "version": 2
   },
   "file_extension": ".py",
   "mimetype": "text/x-python",
   "name": "python",
   "nbconvert_exporter": "python",
   "pygments_lexer": "ipython2",
   "version": "2.7.6"
  }
 },
 "nbformat": 4,
 "nbformat_minor": 0
}